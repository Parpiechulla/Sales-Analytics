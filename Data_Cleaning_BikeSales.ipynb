{
 "cells": [
  {
   "cell_type": "code",
   "execution_count": null,
   "metadata": {},
   "outputs": [],
   "source": [
    "# import pandas library for data cleaning \n",
    "import pandas as pd \n",
    "\n",
    "#read data \n",
    "sales = pd.read_csv(\"Bike Sales Data.csv\")\n",
    "\n",
    "# Information on data \n",
    "sales.info()\n",
    "\n",
    "# DATA CLEANING \n",
    "\n",
    "# Check for null values \n",
    "sales.isna().sum()  # no null values present in our dataframe. \n",
    "\n",
    "# Check for duplicate rows\n",
    "dup_rows_count = sales.duplicated().value_counts()\n",
    "print(dup_rows_count)      # returns the sum of duplicate and non duplicate values \n",
    "sales[sales.duplicated(keep=False)] # returns the first instance of a value and all duplicates \n",
    "# Permenently delete duplicate rows\n",
    "sales = sales.drop_duplicates()\n",
    "\n",
    "# #Check values in each columns for uniformity in data formats \n",
    "# sales[\"Month\"].unique() # 12 values for month \n",
    "# sales[\"Day\"].unique() #31 unique values for days in a month \n",
    "# sales[\"Year\"].unique() # over a 6 year period \n",
    "# sales[\"Customer_Age\"].unique() # All are integer values\n",
    "# sales[\"Age_Group\"].unique() \n",
    "# sales[\"Customer_Gender\"].unique() \n",
    "# sales[\"Country\"].unique() \n",
    "# sales[\"State\"].unique() \n",
    "# sales[\"Product_Category\"].unique()\n",
    "# sales[\"Sub_Category\"].unique()\n",
    "\n",
    "# Save cleaned data to csv. \n",
    "sales.to_csv(\"cleaned_bike_sales.csv\")"
   ]
  }
 ],
 "metadata": {
  "kernelspec": {
   "display_name": "Python 3",
   "language": "python",
   "name": "python3"
  },
  "language_info": {
   "codemirror_mode": {
    "name": "ipython",
    "version": 3
   },
   "file_extension": ".py",
   "mimetype": "text/x-python",
   "name": "python",
   "nbconvert_exporter": "python",
   "pygments_lexer": "ipython3",
   "version": "3.8.2"
  }
 },
 "nbformat": 4,
 "nbformat_minor": 4
}
